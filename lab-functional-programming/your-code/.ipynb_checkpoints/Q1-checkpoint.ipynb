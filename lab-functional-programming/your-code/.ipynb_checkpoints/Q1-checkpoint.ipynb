{
 "cells": [
  {
   "cell_type": "markdown",
   "metadata": {},
   "source": [
    "In the cell below, create a Python function that wraps your previous solution for the Bag of Words lab.\n",
    "\n",
    "Requirements:\n",
    "\n",
    "1. Your function should accept the following parameters:\n",
    "    * `docs` [REQUIRED] - array of document paths.\n",
    "    * `stop_words` [OPTIONAL] - array of stop words. The default value is an empty array.\n",
    "\n",
    "1. Your function should return a Python object that contains the following:\n",
    "    * `bag_of_words` - array of strings of normalized unique words in the corpus.\n",
    "    * `term_freq` - array of the term-frequency vectors."
   ]
  },
  {
   "cell_type": "code",
   "execution_count": 10,
   "metadata": {},
   "outputs": [],
   "source": [
    "# Import required libraries\n",
    "\n",
    "# Define function\n",
    "def get_bow_from_docs(docs, stop_words=[]):\n",
    "    \n",
    "    # In the function, first define the variables you will use such as `corpus`, `bag_of_words`, and `term_freq`.\n",
    "    \n",
    "    \n",
    "    \n",
    "    \"\"\"\n",
    "    Loop `docs` and read the content of each doc into a string in `corpus`.\n",
    "    Remember to convert the doc content to lowercases and remove punctuation.\n",
    "    \"\"\"\n",
    "    corpus = []\n",
    "    for i in range (1,4):\n",
    "        text_file = open(f\"doc{i}.txt\", \"r\")\n",
    "        lines = text_file.readlines()\n",
    "        corpus.append(lines[0])\n",
    "        text_file.close()\n",
    "\n",
    "        \n",
    "    for n in range (len(corpus)):\n",
    "        corpus[n]=corpus[n].replace(\".\",\"\")\n",
    "        corpus[n]=corpus[n].lower()\n",
    "    \n",
    "    \n",
    "    \"\"\"\n",
    "    Loop `corpus`. Append the terms in each doc into the `bag_of_words` array. The terms in `bag_of_words` \n",
    "    should be unique which means before adding each term you need to check if it's already added to the array.\n",
    "    In addition, check if each term is in the `stop_words` array. Only append the term to `bag_of_words`\n",
    "    if it is not a stop word.\n",
    "    \"\"\"\n",
    "\n",
    "    bag_of_words = []\n",
    "    \n",
    "    for i in range (0,3):\n",
    "        words=corpus[i].split()\n",
    "        for word in words:\n",
    "            bag_of_words.append(word)\n",
    "        \n",
    "    bag_of_words = list(dict.fromkeys(bag_of_words))\n",
    "    \n",
    "    \"\"\"\n",
    "    Loop `corpus` again. For each doc string, count the number of occurrences of each term in `bag_of_words`. \n",
    "    Create an array for each doc's term frequency and append it to `term_freq`.\n",
    "    \"\"\"\n",
    "\n",
    "    term_freq = []\n",
    "\n",
    "# Write your code here\n",
    "    for phrase in corpus:\n",
    "\n",
    "        lista = []\n",
    "        words = phrase.split()\n",
    "\n",
    "        for word in bag_of_words:\n",
    "            lista.append(words.count(word))\n",
    "    \n",
    "        term_freq.append(lista)\n",
    "    \n",
    "    # Now return your output as an object\n",
    "    return {\n",
    "        \"bag_of_words\": bag_of_words,\n",
    "        \"term_freq\": term_freq\n",
    "    }\n",
    "    "
   ]
  },
  {
   "cell_type": "markdown",
   "metadata": {},
   "source": [
    "Test your function without stop words. You should see the output like below:\n",
    "\n",
    "```{'bag_of_words': ['ironhack', 'is', 'cool', 'i', 'love', 'am', 'a', 'student', 'at'], 'term_freq': [[1, 1, 1, 0, 0, 0, 0, 0, 0], [1, 0, 0, 1, 1, 0, 0, 0, 0], [1, 0, 0, 1, 0, 1, 1, 1, 1]]}```"
   ]
  },
  {
   "cell_type": "code",
   "execution_count": 11,
   "metadata": {},
   "outputs": [
    {
     "name": "stdout",
     "output_type": "stream",
     "text": [
      "{'bag_of_words': ['ironhack', 'is', 'cool', 'i', 'love', 'am', 'a', 'student', 'at'], 'term_freq': [[1, 1, 1, 0, 0, 0, 0, 0, 0], [1, 0, 0, 1, 1, 0, 0, 0, 0], [1, 0, 0, 1, 0, 1, 1, 1, 1]]}\n"
     ]
    }
   ],
   "source": [
    "# Define doc paths array\n",
    "docs = ['doc1.txt', 'doc2.txt', 'doc3.txt']\n",
    "# Obtain BoW from your function\n",
    "bow = get_bow_from_docs(docs)\n",
    "\n",
    "# Print BoW\n",
    "print(bow)"
   ]
  },
  {
   "cell_type": "markdown",
   "metadata": {},
   "source": [
    "If your attempt above is successful, nice work done!\n",
    "\n",
    "Now test your function again with the stop words. In the previous lab we defined the stop words in a large array. In this lab, we'll import the stop words from Scikit-Learn."
   ]
  },
  {
   "cell_type": "code",
   "execution_count": 12,
   "metadata": {},
   "outputs": [
    {
     "name": "stdout",
     "output_type": "stream",
     "text": [
      "frozenset({'of', 'along', 'hereupon', 'in', 'from', 'via', 'than', 'toward', 'mostly', 'thick', 'one', 'to', 'describe', 'call', 'almost', 'myself', 'six', 'under', 'who', 'per', 'such', 'mine', 'among', 'within', 'see', 'anything', 'somewhere', 'too', 'whoever', 'ours', 'hereby', 'hundred', 'except', 'are', 'moreover', 'others', 'above', 'last', 'keep', 'while', 'yourselves', 'never', 'latter', 'rather', 'whereas', 'neither', 'namely', 'over', 'whole', 'many', 'then', 'without', 'yours', 'every', 'forty', 'became', 'no', 'thin', 'ie', 'empty', 'hence', 'being', 'i', 'out', 'whose', 'is', 'first', 'the', 'why', 'alone', 're', 'cannot', 'and', 'cry', 'become', 'un', 'could', 'themselves', 'them', 'everyone', 'itself', 'found', 'into', 'we', 'about', 'due', 'until', 'much', 'me', 'been', 'already', 'sometimes', 'whereupon', 'seem', 'hasnt', 'where', 'before', 'this', 'thru', 'yourself', 'those', 'here', 'more', 'several', 'during', 'beforehand', 'although', 'besides', 'twelve', 'when', 'nowhere', 'again', 'ten', 'us', 'next', 'now', 'anyway', 'upon', 'may', 'otherwise', 'after', 'very', 'meanwhile', 'back', 'ourselves', 'anyone', 'am', 'seemed', 'their', 'whatever', 'enough', 'former', 'move', 'fill', 'throughout', 'there', 'herein', 'through', 'anyhow', 'whence', 'ltd', 'whereby', 'whether', 'give', 'only', 'same', 'around', 'however', 'name', 'fifteen', 'still', 'few', 'because', 'do', 'get', 'you', 'made', 'its', 'another', 'your', 'nine', 'a', 'that', 'had', 'but', 'would', 'beyond', 'towards', 'even', 'therefore', 'him', 'not', 'both', 'eleven', 'sincere', 'afterwards', 'has', 'everything', 'across', 'were', 'these', 'what', 'always', 'less', 'whenever', 'as', 'take', 'eight', 'cant', 'serious', 'seems', 'nothing', 'everywhere', 'which', 'please', 'three', 'how', 'none', 'at', 'by', 'thereupon', 'detail', 'system', 'most', 'also', 'someone', 'so', 'behind', 'thereby', 'either', 'front', 'own', 'else', 'perhaps', 'with', 'should', 'indeed', 'find', 'wherein', 'show', 'for', 'other', 'they', 'somehow', 'nobody', 'something', 'nor', 'hers', 'herself', 'might', 'latterly', 'his', 'part', 'some', 'interest', 'he', 'any', 'amoungst', 'between', 'two', 'con', 'full', 'must', 'becomes', 'amongst', 'though', 'on', 'onto', 'be', 'thereafter', 'was', 'down', 'thus', 'whither', 'further', 'formerly', 'sometime', 'once', 'noone', 'twenty', 'below', 'becoming', 'co', 'or', 'yet', 'wherever', 'up', 'whom', 'least', 'eg', 'will', 'her', 'my', 'four', 'often', 'thence', 'beside', 'etc', 'off', 'put', 'side', 'mill', 'hereafter', 'sixty', 'since', 'each', 'nevertheless', 'himself', 'can', 'fifty', 'whereafter', 'amount', 'third', 'an', 'bottom', 'have', 'elsewhere', 'well', 'couldnt', 'ever', 'done', 'if', 'de', 'against', 'it', 'seeming', 'anywhere', 'our', 'she', 'all', 'inc', 'go', 'fire', 'together', 'five', 'bill', 'therein', 'top'})\n"
     ]
    }
   ],
   "source": [
    "from sklearn.feature_extraction import _stop_words\n",
    "print(_stop_words.ENGLISH_STOP_WORDS)"
   ]
  },
  {
   "cell_type": "markdown",
   "metadata": {},
   "source": [
    "You should have seen a large list of words that looks like:\n",
    "\n",
    "```frozenset({'across', 'mine', 'cannot', ...})```\n",
    "\n",
    "`frozenset` is a type of Python object that is immutable. In this lab you can use it just like an array without conversion."
   ]
  },
  {
   "cell_type": "markdown",
   "metadata": {},
   "source": [
    "Next, test your function with supplying `stop_words.ENGLISH_STOP_WORDS` as the second parameter."
   ]
  },
  {
   "cell_type": "code",
   "execution_count": 13,
   "metadata": {},
   "outputs": [
    {
     "name": "stdout",
     "output_type": "stream",
     "text": [
      "{'bag_of_words': ['ironhack', 'is', 'cool', 'i', 'love', 'am', 'a', 'student', 'at'], 'term_freq': [[1, 1, 1, 0, 0, 0, 0, 0, 0], [1, 0, 0, 1, 1, 0, 0, 0, 0], [1, 0, 0, 1, 0, 1, 1, 1, 1]]}\n"
     ]
    }
   ],
   "source": [
    "bow = get_bow_from_docs(docs, _stop_words.ENGLISH_STOP_WORDS)\n",
    "\n",
    "print(bow)"
   ]
  },
  {
   "cell_type": "markdown",
   "metadata": {},
   "source": [
    "You should have seen:\n",
    "\n",
    "```{'bag_of_words': ['ironhack', 'cool', 'love', 'student'], 'term_freq': [[1, 1, 0, 0], [1, 0, 1, 0], [1, 0, 0, 1]]}```"
   ]
  },
  {
   "cell_type": "code",
   "execution_count": null,
   "metadata": {},
   "outputs": [],
   "source": []
  },
  {
   "cell_type": "code",
   "execution_count": null,
   "metadata": {},
   "outputs": [],
   "source": []
  }
 ],
 "metadata": {
  "kernelspec": {
   "display_name": "Python 3 (ipykernel)",
   "language": "python",
   "name": "python3"
  },
  "language_info": {
   "codemirror_mode": {
    "name": "ipython",
    "version": 3
   },
   "file_extension": ".py",
   "mimetype": "text/x-python",
   "name": "python",
   "nbconvert_exporter": "python",
   "pygments_lexer": "ipython3",
   "version": "3.9.7"
  }
 },
 "nbformat": 4,
 "nbformat_minor": 4
}
